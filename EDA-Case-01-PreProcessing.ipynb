{
 "cells": [
  {
   "cell_type": "markdown",
   "id": "a6835ef2",
   "metadata": {},
   "source": [
    "<center><h2><strong><font color=\"blue\">Study Case 01 - E(V)DA: PreProcessing</font></strong></h2></center>\n",
    "\n",
    "<img alt=\"\" src=\"images/Ray-pink-Property-Case-Banner.jpg\"/>"
   ]
  },
  {
   "cell_type": "markdown",
   "id": "8cbd8d70",
   "metadata": {},
   "source": [
    "# Kasus:\n",
    "\n",
    "* Anda adalah seorang Data Analyst yang bekerja di PT **Ray Pink Property Indonesia** (RPPI).\n",
    "* RPPI adalah perusahaan property yang berdiri sejak 11 tahun yang lalu.\n",
    "* RPPI memliki kantor cabang di 7 propinsi di Indonesia dan jumlahnya terus bertambah.\n",
    "* Valuasi RPPI tahun ini mencapai Rp 7 Trilyun, meningkat 7% dari tahun sebelumnya.\n",
    "* Bidang usaha RPPI adalah investasi dan jual-beli property secara umum, termasuk bekerja sama dengan developer perumahan.\n",
    "* Data Engineer (DE)/Database Administrator (DBA) RPPI berhasil mengumpulkan data rumah-rumah yang dijual di beberapa kota di Indonesia.\n",
    "* Sebagai Data Analyst anda akan hadir dan melakukan presentasi pada rapat direksi untuk memberikan insight dari data ke upper management (C-Level, senior managers, dan komisaris perusahaan).\n",
    "* Di studi kasus ini anda mempersiapkan \"bahan presentasi\" dengan cara melakukan EDA pada data yang diterima dari DE/DBA."
   ]
  },
  {
   "cell_type": "markdown",
   "id": "0c3cb380",
   "metadata": {},
   "source": [
    "# Petunjuk:\n",
    "\n",
    "Di studi kasus pertama, anda mendapat bantuan keterangan dari manajemen. Setelah berdiskusi *over lunch* dengan beberapa manager senior, anda mendengar bahwa mereka ingin mengetahui:\n",
    "\n",
    "1. Kualitas data yang dimiliki perusahaan.\n",
    "2. Apakah ada saran perbaikan data ke DE/DBA perusahaan agar RPPI menjadi *data driven company* yang unggul.\n",
    "3. Dari data yang ada, apakah ada kecenderungan rumah disuatu kota lebih mahal/murah dibandingkan kota lain?\n",
    "4. Rumah dengan karakteristik seperti apa yang paling banyak dijual?\n",
    "5. Jika RPPI ingin melakukan investasi (max) Rp. 25 Milyar minggu besok, apakah dari data (statistika deskriptif sederhana) anda dapat memberikan rekomendasi rumah mana saja yang akan berpotensi menghasilkan keuntungan bagi perusahaan?\n",
    "6. Dan yang terpenting, informasi berharga apa lagi yang bisa anda dapatkan dari data melalui hanya preprocessing dan statistika deskriptif?"
   ]
  },
  {
   "cell_type": "markdown",
   "id": "691c8ffc",
   "metadata": {},
   "source": [
    "# Catatan:\n",
    "\n",
    "* Anda diperbolehkan melakukan augmentasi data (menambah data eksternal).\n",
    "* Yakinkan menuliskan asumsi anda atas kesimpulan dan rekomendasi yang diberikan ke perusahaan.\n",
    "* Yakinkan kesimpulan dan rekomendasi ditujukan ke perusahaan (bukan dosen mata kuliah).\n",
    "* Interpretasi diberikan menggunakan cell markdown tepat dibawah output code yang relevan diatasnya.\n",
    "* Anda tidak diperkenankan bertanya pertanyaan yang:\n",
    " - Merupakan jawaban atau menjurus ke jawaban studi kasus.\n",
    " - Debugging - code error (anda diharapkan melakukan code troubleshooting sendiri via mesin pencari)\n",
    "* Pada studi kasus ini anda hanya diperkenankan untuk melakukan Preprocessing (bukan visualisasi dan modeling seperti prediksi/forecasting)"
   ]
  },
  {
   "cell_type": "markdown",
   "id": "848a2096",
   "metadata": {},
   "source": [
    "# Komponen Penilaian:\n",
    "\n",
    "* Code tidak diubah sejak deadline studi kasus yang disepakati.\n",
    "* Code dapat di \"Run-All\" di Google Colab oleh dosen tanpa error.\n",
    "* Pemilihan preprocessing dan statistika dasar yang tepat\n",
    "* Interpretasi dan rekomendasi dengan narasi dan kualitas yang baik, serta berdasarkan atas (pengolahan) data.\n",
    "* Kreativitas dan inovasi pengolahan data."
   ]
  },
  {
   "cell_type": "markdown",
   "id": "e5a333c7",
   "metadata": {},
   "source": [
    "# Data Understanding (DU):\n",
    "\n",
    "Keterangan Varabel:\n",
    "* Created_at: Tanggal dimana iklan rumah dibuat\n",
    "* LT\t\t: Luas Tanah properti yang ditawarkan\n",
    "* LB\t\t: Luas Bangunan properti yang ditawarkan\n",
    "* KT\t\t: Jumlah Kamar Tidur properti yang ditawarkan\n",
    "* KM\t\t: Jumlah Kamar Mandi properti yang ditawarkan\n",
    "* Garasi\t: Jumlah Kapasitas Garasi di properti yang ditawarkan\n",
    "* Carport\t: Kapasitas Carport di properti yang ditawarkan\n",
    "* Lokasi\t: Detail lokasi properti yang ditawarkan\n",
    "* Sertifikat: Jenis sertifikat properti yang ditawarkan\n",
    "* Listrik\t: Daya listrik dari properti yang ditawarkan\n",
    "* Hadap\t\t: Keterangan property yang ditawarkan menghadap ke arah mana\n",
    "* Harga \t: Harga property yang ditawarkan dalam Rupiah\n",
    "* URL\t\t: Alamat tautan (link) property yang ditawarkan.\n",
    "* Deskripsi\t: Deskripsi iklan property yang ditawarkan. "
   ]
  },
  {
   "cell_type": "code",
   "execution_count": 3,
   "id": "ddd7f934",
   "metadata": {},
   "outputs": [],
   "source": [
    "# Loading Data:\n",
    "import pandas as pd\n",
    "\n",
    "try: # Running Locally, yakinkan \"file_\" berada di folder \"data\"\n",
    "    dfJ = pd.read_csv(\"data/jakarta.csv\", low_memory = False, encoding='utf8')\n",
    "    dfB = pd.read_csv(\"data/bogor.csv\", low_memory = False, encoding='utf8')\n",
    "    dfX = pd.read_csv(\"data/bekasi.csv\", low_memory = False, encoding='utf8')\n",
    "except: # Running in Google Colab\n",
    "    !mkdir data\n",
    "    !wget -P data/ https://raw.githubusercontent.com/taufiksutanto/EDA-Case-01-PreProcessing/master/data/jakarta.csv\n",
    "    !wget -P data/ https://raw.githubusercontent.com/taufiksutanto/EDA-Case-01-PreProcessing/master/data/bogor.csv\n",
    "    !wget -P data/ https://raw.githubusercontent.com/taufiksutanto/EDA-Case-01-PreProcessing/master/data/bekasi.csv\n",
    "    dfJ = pd.read_csv(\"data/jakarta.csv\", low_memory = False, encoding='utf8')\n",
    "    dfB = pd.read_csv(\"data/bogor.csv\", low_memory = False, encoding='utf8')\n",
    "    dfX = pd.read_csv(\"data/bekasi.csv\", low_memory = False, encoding='utf8')\n",
    "    \n",
    "dfJ.shape, dfB.shape, dfX.shape"
   ]
  },
  {
   "cell_type": "code",
   "execution_count": null,
   "id": "fd791896",
   "metadata": {},
   "outputs": [],
   "source": []
  }
 ],
 "metadata": {
  "kernelspec": {
   "display_name": "Python 3 (ipykernel)",
   "language": "python",
   "name": "python3"
  },
  "language_info": {
   "codemirror_mode": {
    "name": "ipython",
    "version": 3
   },
   "file_extension": ".py",
   "mimetype": "text/x-python",
   "name": "python",
   "nbconvert_exporter": "python",
   "pygments_lexer": "ipython3",
   "version": "3.7.13"
  }
 },
 "nbformat": 4,
 "nbformat_minor": 5
}
